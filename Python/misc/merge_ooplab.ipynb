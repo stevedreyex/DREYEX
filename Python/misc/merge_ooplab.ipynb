{
 "cells": [
  {
   "cell_type": "code",
   "execution_count": 15,
   "metadata": {
    "tags": []
   },
   "outputs": [
    {
     "output_type": "stream",
     "name": "stdout",
     "text": "['ABoss.cpp', 'ABoss.h', 'Arrow.cpp', 'Arrow.h', 'Attack.cpp', 'Attack.h', 'BloodBar.cpp', 'BloodBar.h', 'BlueGoblin.cpp', 'BlueGoblin.h', 'BlueSlime.cpp', 'BlueSlime.h', 'BossBloodBar.cpp', 'BossBloodBar.h', 'Box.cpp', 'Box.h', 'Character.cpp', 'Character.h', 'Clock.cpp', 'Clock.h', 'Enemy.cpp', 'Enemy.h', 'GreenGoblin.cpp', 'GreenGoblin.h', 'GreenSlime.cpp', 'GreenSlime.h', 'Health.cpp', 'Health.h', 'Hero.cpp', 'Hero.h', 'IceBird.cpp', 'IceBird.h', 'Item.cpp', 'Item.h', 'ItemAttribute.cpp', 'ItemAttribute.h', 'Map1_1.cpp', 'Map1_1.h', 'Map1_2.cpp', 'Map1_2.h', 'Map1_3.cpp', 'Map1_3.h', 'Map1_4.cpp', 'Map1_4.h', 'Map2_1.cpp', 'Map2_1.h', 'Map2_2.cpp', 'Map2_2.h', 'Map2_3.cpp', 'Map2_3.h', 'Map2_4.cpp', 'Map2_4.h', 'Maps.cpp', 'Maps.h', 'PlayerStatus.cpp', 'PlayerStatus.h', 'Potion.cpp', 'Potion.h', 'ProtectiveCover.cpp', 'ProtectiveCover.h', 'RandomAttribute.cpp', 'RandomAttribute.h', 'RedGoblin.cpp', 'RedGoblin.h', 'RedSlime.cpp', 'RedSlime.h', 'Scarecrow.cpp', 'Scarecrow.h', 'Shoe.cpp', 'Shoe.h', 'Util.h', 'mygame.cpp', 'mygame.h']\n"
    }
   ],
   "source": [
    "from os import listdir\n",
    "from os.path import isfile, join\n",
    "import csv\n",
    "\n",
    "mypath = '/Users/dreyex/Documents/coding/oopcourse851/game/Source'\n",
    "onlyfiles = [f for f in listdir(mypath) if isfile(join(mypath, f))]\n",
    "removelist = ['.DS_Store', 'StdAfx.cpp', 'StdAfx.h', 'UnitTest.cpp', 'audio.cpp', 'audio.h', 'game.cpp', 'game.rc', 'gameDoc.cpp', 'gameDoc.h', 'gameView.cpp', 'gameView.h', 'gamelib.cpp', 'gamelib.h', 'gamelibTest.cpp', 'resource.h', 'Game.h', 'MainFrm.cpp', 'MainFrm.h']\n",
    "for i in removelist:\n",
    "    onlyfiles.remove(i)\n",
    "onlyfiles.sort()\n",
    "print(onlyfiles)\n",
    "\n",
    "    "
   ]
  },
  {
   "cell_type": "code",
   "execution_count": 16,
   "metadata": {
    "tags": []
   },
   "outputs": [
    {
     "output_type": "stream",
     "name": "stdout",
     "text": "73\n"
    }
   ],
   "source": [
    "print(len(onlyfiles))"
   ]
  },
  {
   "cell_type": "code",
   "execution_count": 17,
   "metadata": {},
   "outputs": [],
   "source": [
    "with open('merged.txt', 'w', newline='', encoding='windows-1252') as outfile:\n",
    "    for fname in onlyfiles:\n",
    "        with open(mypath + '/' + fname, 'r', encoding='windows-1252') as infile:\n",
    "            outfile.write(fname)\n",
    "            outfile.write('\\n')\n",
    "            for line in infile:\n",
    "                outfile.write(line)\n",
    "            outfile.write('\\n')"
   ]
  },
  {
   "cell_type": "code",
   "execution_count": null,
   "metadata": {},
   "outputs": [],
   "source": []
  }
 ],
 "metadata": {
  "language_info": {
   "codemirror_mode": {
    "name": "ipython",
    "version": 3
   },
   "file_extension": ".py",
   "mimetype": "text/x-python",
   "name": "python",
   "nbconvert_exporter": "python",
   "pygments_lexer": "ipython3",
   "version": "3.7.7-final"
  },
  "orig_nbformat": 2,
  "kernelspec": {
   "name": "python37464bitconda0dd55147e6684e978a2d760db5319d52",
   "display_name": "Python 3.7.4 64-bit (conda)"
  }
 },
 "nbformat": 4,
 "nbformat_minor": 2
}