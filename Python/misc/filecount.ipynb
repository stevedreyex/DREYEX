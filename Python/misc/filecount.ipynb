{
 "cells": [
  {
   "cell_type": "code",
   "execution_count": 1,
   "metadata": {
    "tags": []
   },
   "outputs": [
    {
     "output_type": "stream",
     "name": "stdout",
     "text": "['ABoss.cpp', 'ABoss.h', 'Arrow.cpp', 'Arrow.h', 'Attack.cpp', 'Attack.h', 'BloodBar.cpp', 'BloodBar.h', 'BlueGoblin.cpp', 'BlueGoblin.h', 'BlueSlime.cpp', 'BlueSlime.h', 'BossBloodBar.cpp', 'BossBloodBar.h', 'Box.cpp', 'Box.h', 'Character.cpp', 'Character.h', 'Clock.cpp', 'Clock.h', 'Enemy.cpp', 'Enemy.h', 'GreenGoblin.cpp', 'GreenGoblin.h', 'GreenSlime.cpp', 'GreenSlime.h', 'Health.cpp', 'Health.h', 'Hero.cpp', 'Hero.h', 'IceBird.cpp', 'IceBird.h', 'Item.cpp', 'Item.h', 'ItemAttribute.cpp', 'ItemAttribute.h', 'Map1_1.cpp', 'Map1_1.h', 'Map1_2.cpp', 'Map1_2.h', 'Map1_3.cpp', 'Map1_3.h', 'Map1_4.cpp', 'Map1_4.h', 'Map2_1.cpp', 'Map2_1.h', 'Map2_2.cpp', 'Map2_2.h', 'Map2_3.cpp', 'Map2_3.h', 'Map2_4.cpp', 'Map2_4.h', 'Maps.cpp', 'Maps.h', 'PlayerStatus.cpp', 'PlayerStatus.h', 'Potion.cpp', 'Potion.h', 'ProtectiveCover.cpp', 'ProtectiveCover.h', 'RandomAttribute.cpp', 'RandomAttribute.h', 'RedGoblin.cpp', 'RedGoblin.h', 'RedSlime.cpp', 'RedSlime.h', 'Scarecrow.cpp', 'Scarecrow.h', 'Shoe.cpp', 'Shoe.h', 'Util.h', 'mygame.cpp', 'mygame.h']\n"
    }
   ],
   "source": [
    "from os import listdir\n",
    "from os.path import isfile, join\n",
    "import csv\n",
    "\n",
    "mypath = '/Users/dreyex/Documents/coding/oopcourse851/game/Source'\n",
    "onlyfiles = [f for f in listdir(mypath) if isfile(join(mypath, f))]\n",
    "removelist = ['.DS_Store', 'StdAfx.cpp', 'StdAfx.h', 'UnitTest.cpp', 'audio.cpp', 'audio.h', 'game.cpp', 'game.rc', 'gameDoc.cpp', 'gameDoc.h', 'gameView.cpp', 'gameView.h', 'gamelib.cpp', 'gamelib.h', 'gamelibTest.cpp', 'resource.h', 'Game.h', 'MainFrm.cpp', 'MainFrm.h']\n",
    "for i in removelist:\n",
    "    onlyfiles.remove(i)\n",
    "onlyfiles.sort()\n",
    "print(onlyfiles)\n",
    "\n",
    "    "
   ]
  },
  {
   "cell_type": "code",
   "execution_count": 2,
   "metadata": {
    "tags": []
   },
   "outputs": [
    {
     "output_type": "stream",
     "name": "stdout",
     "text": "['ABoss', 'Arrow', 'Attack', 'BloodBar', 'BlueGoblin', 'BlueSlime', 'BossBloodBar', 'Box', 'Character', 'Clock', 'Enemy', 'GreenGoblin', 'GreenSlime', 'Health', 'Hero', 'IceBird', 'Item', 'ItemAttribute', 'Map1_1', 'Map1_2', 'Map1_3', 'Map1_4', 'Map2_1', 'Map2_2', 'Map2_3', 'Map2_4', 'Maps', 'PlayerStatus', 'Potion', 'ProtectiveCover', 'RandomAttribute', 'RedGoblin', 'RedSlime', 'Scarecrow', 'Shoe', 'Util', 'mygame']\n"
    }
   ],
   "source": [
    "# filename_individual = enumerate(onlyfiles)\n",
    "# for name in filename_individual:\n",
    "#     print(name[0], name[1])\n",
    "# for name in filename_individual:\n",
    "#     trim_name = ['.h', '.cpp']\n",
    "#     if name.match(trim):\n",
    "\n",
    "individual = []\n",
    "for name in onlyfiles:\n",
    "    if name[-2:] == 'pp':\n",
    "        individual.append(name[:-4])\n",
    "    if name[-2:] == '.h':\n",
    "        if (name[:-2] not in individual):\n",
    "            individual.append(name[:-2])\n",
    "\n",
    "print(individual)\n",
    "\n"
   ]
  },
  {
   "cell_type": "code",
   "execution_count": 3,
   "metadata": {
    "tags": []
   },
   "outputs": [],
   "source": [
    "with open('output.csv', 'w', newline='') as csvfile:\n",
    "    writer = csv.writer(csvfile)\n",
    "    writer.writerow(['filename', '.h', '.cpp'])\n",
    "    fname = mypath+\"/\"\n",
    "    dot_h_total = 0\n",
    "    dot_cpp_total = 0\n",
    "    for filename in individual:\n",
    "        dot_h_count = 0\n",
    "        dot_cpp_count = 0\n",
    "        dot_h_file_name = fname + filename + '.h'\n",
    "        dot_cpp_file_name = fname +filename + '.cpp'\n",
    "        if (os.path.isfile(dot_h_file_name)):\n",
    "            with open(dot_h_file_name, 'r', encoding='windows-1252') as f:\n",
    "                for line in f:\n",
    "                    dot_h_count += 1\n",
    "        else:\n",
    "            dot_h_count = 0\n",
    "        \n",
    "        if (os.path.isfile(dot_cpp_file_name)):\n",
    "            with open(dot_cpp_file_name, 'r', encoding='windows-1252') as f:\n",
    "                for line in f:\n",
    "                    dot_cpp_count += 1\n",
    "        else:\n",
    "            dot_cpp_count = 0\n",
    "        dot_h_total += dot_h_count\n",
    "        dot_cpp_total += dot_cpp_count\n",
    "        writer.writerow([filename, str(dot_h_count), str(dot_cpp_count)])\n",
    "    writer.writerow(['sum', str(dot_h_total), str(dot_cpp_total)])\n"
   ]
  },
  {
   "cell_type": "code",
   "execution_count": null,
   "metadata": {},
   "outputs": [],
   "source": []
  }
 ],
 "metadata": {
  "language_info": {
   "codemirror_mode": {
    "name": "ipython",
    "version": 3
   },
   "file_extension": ".py",
   "mimetype": "text/x-python",
   "name": "python",
   "nbconvert_exporter": "python",
   "pygments_lexer": "ipython3",
   "version": "3.7.7-final"
  },
  "orig_nbformat": 2,
  "kernelspec": {
   "name": "python37464bitconda0dd55147e6684e978a2d760db5319d52",
   "display_name": "Python 3.7.4 64-bit (conda)"
  }
 },
 "nbformat": 4,
 "nbformat_minor": 2
}